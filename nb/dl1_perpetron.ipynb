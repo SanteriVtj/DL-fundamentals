{
 "cells": [
  {
   "cell_type": "code",
   "execution_count": 1,
   "metadata": {},
   "outputs": [],
   "source": [
    "import matplotlib.pyplot as plt\n",
    "import pandas as pd \n",
    "import numpy as np\n",
    "from operator import add\n",
    "import math"
   ]
  },
  {
   "cell_type": "markdown",
   "metadata": {},
   "source": [
    "# Perceptron"
   ]
  },
  {
   "cell_type": "code",
   "execution_count": 2,
   "metadata": {},
   "outputs": [],
   "source": [
    "url = 'https://raw.githubusercontent.com/Lightning-AI/dl-fundamentals/main/unit01-ml-intro/1.6-perceptron-in-python/perceptron_toydata-truncated.txt'\n",
    "df = pd.read_csv(url, sep='\\t')"
   ]
  },
  {
   "cell_type": "code",
   "execution_count": 3,
   "metadata": {},
   "outputs": [
    {
     "data": {
      "text/html": [
       "<div>\n",
       "<style scoped>\n",
       "    .dataframe tbody tr th:only-of-type {\n",
       "        vertical-align: middle;\n",
       "    }\n",
       "\n",
       "    .dataframe tbody tr th {\n",
       "        vertical-align: top;\n",
       "    }\n",
       "\n",
       "    .dataframe thead th {\n",
       "        text-align: right;\n",
       "    }\n",
       "</style>\n",
       "<table border=\"1\" class=\"dataframe\">\n",
       "  <thead>\n",
       "    <tr style=\"text-align: right;\">\n",
       "      <th></th>\n",
       "      <th>x1</th>\n",
       "      <th>x2</th>\n",
       "      <th>label</th>\n",
       "    </tr>\n",
       "  </thead>\n",
       "  <tbody>\n",
       "    <tr>\n",
       "      <th>0</th>\n",
       "      <td>0.77</td>\n",
       "      <td>-1.14</td>\n",
       "      <td>0</td>\n",
       "    </tr>\n",
       "    <tr>\n",
       "      <th>1</th>\n",
       "      <td>-0.33</td>\n",
       "      <td>1.44</td>\n",
       "      <td>0</td>\n",
       "    </tr>\n",
       "    <tr>\n",
       "      <th>2</th>\n",
       "      <td>0.91</td>\n",
       "      <td>-3.07</td>\n",
       "      <td>0</td>\n",
       "    </tr>\n",
       "    <tr>\n",
       "      <th>3</th>\n",
       "      <td>-0.37</td>\n",
       "      <td>-1.91</td>\n",
       "      <td>0</td>\n",
       "    </tr>\n",
       "    <tr>\n",
       "      <th>4</th>\n",
       "      <td>-0.63</td>\n",
       "      <td>-1.53</td>\n",
       "      <td>0</td>\n",
       "    </tr>\n",
       "  </tbody>\n",
       "</table>\n",
       "</div>"
      ],
      "text/plain": [
       "     x1    x2  label\n",
       "0  0.77 -1.14      0\n",
       "1 -0.33  1.44      0\n",
       "2  0.91 -3.07      0\n",
       "3 -0.37 -1.91      0\n",
       "4 -0.63 -1.53      0"
      ]
     },
     "execution_count": 3,
     "metadata": {},
     "output_type": "execute_result"
    }
   ],
   "source": [
    "df.head()"
   ]
  },
  {
   "cell_type": "code",
   "execution_count": 4,
   "metadata": {},
   "outputs": [
    {
     "data": {
      "text/plain": [
       "<matplotlib.collections.PathCollection at 0x1fc769f8850>"
      ]
     },
     "execution_count": 4,
     "metadata": {},
     "output_type": "execute_result"
    },
    {
     "data": {
      "image/png": "[encoded data removed]",
      "text/plain": [
       "<Figure size 640x480 with 1 Axes>"
      ]
     },
     "metadata": {},
     "output_type": "display_data"
    }
   ],
   "source": [
    "plt.scatter(df[df.label==0].x1, df[df.label==0].x2, c='blue')\n",
    "plt.scatter(df[df.label==1].x1, df[df.label==1].x2, c='red')"
   ]
  },
  {
   "cell_type": "code",
   "execution_count": 127,
   "metadata": {},
   "outputs": [],
   "source": [
    "class Perpeptron:\n",
    "    def __init__(self, num_features):\n",
    "        self.num_features = num_features\n",
    "        self.weights = np.random.standard_normal(num_features)\n",
    "        self.bias = np.random.standard_normal(1)\n",
    "\n",
    "    def forward(self, x):\n",
    "        weighted_sum_z = np.dot(x, self.weights) + self.bias\n",
    "        prediction = 1 if weighted_sum_z > .0 else 0\n",
    "        return prediction\n",
    "\n",
    "    def update(self, x, true_y, alpha=1.):\n",
    "        prediction = self.forward(x)\n",
    "        error = true_y - prediction\n",
    "        self.bias += error\n",
    "        self.weights = list(map(add, self.weights, np.dot(x, alpha*error)))\n",
    "        return error"
   ]
  },
  {
   "cell_type": "code",
   "execution_count": 128,
   "metadata": {},
   "outputs": [
    {
     "name": "stdout",
     "output_type": "stream",
     "text": [
      "w:  [1.9347264721731807, 0.8439799167162179]\n",
      "b:  [0.62699381]\n"
     ]
    }
   ],
   "source": [
    "ppn = Perpeptron(num_features=2)\n",
    "\n",
    "x = [1.1, 2.1]\n",
    "ppn.update(x,  1)\n",
    "\n",
    "print(\"w: \", ppn.weights)\n",
    "print(\"b: \", ppn.bias)"
   ]
  },
  {
   "cell_type": "code",
   "execution_count": 141,
   "metadata": {},
   "outputs": [],
   "source": [
    "def train(model, X, y, alpha, epoch=5):\n",
    "\n",
    "    for e in range(epoch):\n",
    "        error_count = 0\n",
    "        \n",
    "        for x, y_ in list(zip([X.iloc[i] for i in range(X.shape[0])], y)):\n",
    "            error = model.update(x,y_,alpha)\n",
    "            error_count += abs(error)\n",
    "\n",
    "        print(f\"Epoch {e+1} errors {error_count}\")\n",
    "        if error_count == 0:\n",
    "            break"
   ]
  },
  {
   "cell_type": "code",
   "execution_count": 142,
   "metadata": {},
   "outputs": [],
   "source": [
    "def split_data(X, y, random_state=1):\n",
    "    X_train = X.sample(15, random_state=random_state).sort_index().copy()\n",
    "    y_train = y[X.isin(X_train).all(axis=1)]\n",
    "    \n",
    "    X_test = X.loc[~X.isin(X_train).all(axis=1),:]\n",
    "    y_test = y[X.isin(X_test).all(axis=1)]\n",
    "    \n",
    "    return X_train, y_train, X_test, y_test"
   ]
  },
  {
   "cell_type": "code",
   "execution_count": 191,
   "metadata": {},
   "outputs": [],
   "source": [
    "X_train, y_train, X_test, y_test = split_data(df.iloc[:,0:2], df.iloc[:,2], random_state=2)"
   ]
  },
  {
   "cell_type": "code",
   "execution_count": 192,
   "metadata": {},
   "outputs": [
    {
     "name": "stdout",
     "output_type": "stream",
     "text": [
      "Train data matches:  True\n",
      "Test data matches:  True\n"
     ]
    }
   ],
   "source": [
    "print(\"Train data matches: \", all(df[df.isin(X_train).any(axis=1)].label == y_train))\n",
    "print(\"Test data matches: \", all(df[df.isin(X_test).any(axis=1)].label == y_test))"
   ]
  },
  {
   "cell_type": "code",
   "execution_count": 193,
   "metadata": {},
   "outputs": [
    {
     "name": "stdout",
     "output_type": "stream",
     "text": [
      "Epoch 1 errors 1\n",
      "Epoch 2 errors 2\n",
      "Epoch 3 errors 1\n",
      "Epoch 4 errors 1\n",
      "Epoch 5 errors 0\n"
     ]
    }
   ],
   "source": [
    "ppn = Perpeptron(num_features=2)\n",
    "\n",
    "train(model=ppn, X=X_train, y=y_train, alpha=.2)"
   ]
  },
  {
   "cell_type": "code",
   "execution_count": 194,
   "metadata": {},
   "outputs": [],
   "source": [
    "def accuracy(model, X, y):\n",
    "    correct = .0\n",
    "\n",
    "    for x, y_ in list(zip([X.iloc[i] for i in range(X.shape[0])], y)):\n",
    "        prediction = model.forward(x)\n",
    "        correct += int(prediction == y_)\n",
    "    \n",
    "    return correct / len(y)"
   ]
  },
  {
   "cell_type": "code",
   "execution_count": 195,
   "metadata": {},
   "outputs": [
    {
     "data": {
      "text/plain": [
       "1.0"
      ]
     },
     "execution_count": 195,
     "metadata": {},
     "output_type": "execute_result"
    }
   ],
   "source": [
    "accuracy(ppn, X_train, y_train)"
   ]
  },
  {
   "cell_type": "code",
   "execution_count": 196,
   "metadata": {},
   "outputs": [
    {
     "data": {
      "text/plain": [
       "1.0"
      ]
     },
     "execution_count": 196,
     "metadata": {},
     "output_type": "execute_result"
    }
   ],
   "source": [
    "accuracy(ppn, X_test, y_test)"
   ]
  },
  {
   "cell_type": "code",
   "execution_count": 197,
   "metadata": {},
   "outputs": [],
   "source": [
    "def plot_boundary(model, X, y, x1_min=-20, x1_max=20):\n",
    "    w1,w2 = model.weights[0], model.weights[1]\n",
    "    b = model.bias\n",
    "\n",
    "    x2_min = (-(w1*x1_min)-b)/w2\n",
    "    x2_max = (-(w1*x1_max)-b)/w2\n",
    "    \n",
    "    plt.scatter(X[y==0].x1, X[y==0].x2, c='blue')\n",
    "    plt.scatter(X[y==1].x1, X[y==1].x2, c='red')\n",
    "    plt.plot([x1_min,x1_max], [x2_min, x2_max], c='black', linestyle='--')\n",
    "    plt.xlim([-5,5])\n",
    "    plt.ylim([-5,5])\n",
    "    plt.show()"
   ]
  },
  {
   "cell_type": "code",
   "execution_count": 198,
   "metadata": {},
   "outputs": [
    {
     "data": {
      "image/png": "[encoded data removed]",
      "text/plain": [
       "<Figure size 640x480 with 1 Axes>"
      ]
     },
     "metadata": {},
     "output_type": "display_data"
    }
   ],
   "source": [
    "plot_boundary(ppn, X_train, y_train)"
   ]
  },
  {
   "cell_type": "code",
   "execution_count": 199,
   "metadata": {},
   "outputs": [
    {
     "data": {
      "image/png": "[encoded data removed]",
      "text/plain": [
       "<Figure size 640x480 with 1 Axes>"
      ]
     },
     "metadata": {},
     "output_type": "display_data"
    }
   ],
   "source": [
    "plot_boundary(ppn, X_test, y_test)"
   ]
  },
  {
   "cell_type": "markdown",
   "metadata": {},
   "source": [
    "# Exercise 1"
   ]
  },
  {
   "cell_type": "code",
   "execution_count": null,
   "metadata": {},
   "outputs": [],
   "source": []
  }
 ],
 "metadata": {
  "kernelspec": {
   "display_name": "Python 3.9.15 ('dl_fundamentals')",
   "language": "python",
   "name": "python3"
  },
  "language_info": {
   "codemirror_mode": {
    "name": "ipython",
    "version": 3
   },
   "file_extension": ".py",
   "mimetype": "text/x-python",
   "name": "python",
   "nbconvert_exporter": "python",
   "pygments_lexer": "ipython3",
   "version": "3.9.15 (main, Nov 24 2022, 14:39:17) [MSC v.1916 64 bit (AMD64)]"
  },
  "orig_nbformat": 4,
  "vscode": {
   "interpreter": {
    "hash": "fa40f0b4e9ab50f665cb38b8305229ba72dbfa96d9b5874042a1d04f11357b6a"
   }
  }
 },
 "nbformat": 4,
 "nbformat_minor": 2
}
