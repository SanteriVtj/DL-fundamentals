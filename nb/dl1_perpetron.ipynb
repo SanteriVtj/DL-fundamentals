{
 "cells": [
  {
   "cell_type": "code",
   "execution_count": 142,
   "metadata": {},
   "outputs": [],
   "source": [
    "import matplotlib.pyplot as plt\n",
    "import pandas as pd \n",
    "import numpy as np\n",
    "from operator import add\n",
    "import math"
   ]
  },
  {
   "cell_type": "code",
   "execution_count": 5,
   "metadata": {},
   "outputs": [],
   "source": [
    "url = 'https://raw.githubusercontent.com/Lightning-AI/dl-fundamentals/main/unit01-ml-intro/1.6-perceptron-in-python/perceptron_toydata-truncated.txt'\n",
    "df = pd.read_csv(url, sep='\\t')"
   ]
  },
  {
   "cell_type": "code",
   "execution_count": 7,
   "metadata": {},
   "outputs": [
    {
     "data": {
      "text/html": [
       "<div>\n",
       "<style scoped>\n",
       "    .dataframe tbody tr th:only-of-type {\n",
       "        vertical-align: middle;\n",
       "    }\n",
       "\n",
       "    .dataframe tbody tr th {\n",
       "        vertical-align: top;\n",
       "    }\n",
       "\n",
       "    .dataframe thead th {\n",
       "        text-align: right;\n",
       "    }\n",
       "</style>\n",
       "<table border=\"1\" class=\"dataframe\">\n",
       "  <thead>\n",
       "    <tr style=\"text-align: right;\">\n",
       "      <th></th>\n",
       "      <th>x1</th>\n",
       "      <th>x2</th>\n",
       "      <th>label</th>\n",
       "    </tr>\n",
       "  </thead>\n",
       "  <tbody>\n",
       "    <tr>\n",
       "      <th>0</th>\n",
       "      <td>0.77</td>\n",
       "      <td>-1.14</td>\n",
       "      <td>0</td>\n",
       "    </tr>\n",
       "    <tr>\n",
       "      <th>1</th>\n",
       "      <td>-0.33</td>\n",
       "      <td>1.44</td>\n",
       "      <td>0</td>\n",
       "    </tr>\n",
       "    <tr>\n",
       "      <th>2</th>\n",
       "      <td>0.91</td>\n",
       "      <td>-3.07</td>\n",
       "      <td>0</td>\n",
       "    </tr>\n",
       "    <tr>\n",
       "      <th>3</th>\n",
       "      <td>-0.37</td>\n",
       "      <td>-1.91</td>\n",
       "      <td>0</td>\n",
       "    </tr>\n",
       "    <tr>\n",
       "      <th>4</th>\n",
       "      <td>-0.63</td>\n",
       "      <td>-1.53</td>\n",
       "      <td>0</td>\n",
       "    </tr>\n",
       "  </tbody>\n",
       "</table>\n",
       "</div>"
      ],
      "text/plain": [
       "     x1    x2  label\n",
       "0  0.77 -1.14      0\n",
       "1 -0.33  1.44      0\n",
       "2  0.91 -3.07      0\n",
       "3 -0.37 -1.91      0\n",
       "4 -0.63 -1.53      0"
      ]
     },
     "execution_count": 7,
     "metadata": {},
     "output_type": "execute_result"
    }
   ],
   "source": [
    "df.head()"
   ]
  },
  {
   "cell_type": "code",
   "execution_count": 12,
   "metadata": {},
   "outputs": [
    {
     "data": {
      "text/plain": [
       "<matplotlib.collections.PathCollection at 0x24d5249ee20>"
      ]
     },
     "execution_count": 12,
     "metadata": {},
     "output_type": "execute_result"
    },
    {
     "data": {
      "image/png": "[encoded data removed]",
      "text/plain": [
       "<Figure size 640x480 with 1 Axes>"
      ]
     },
     "metadata": {},
     "output_type": "display_data"
    }
   ],
   "source": [
    "plt.scatter(df[df.label==0].x1, df[df.label==0].x2, c='blue')\n",
    "plt.scatter(df[df.label==1].x1, df[df.label==1].x2, c='red')"
   ]
  },
  {
   "cell_type": "code",
   "execution_count": 152,
   "metadata": {},
   "outputs": [],
   "source": [
    "class Perpeptron:\n",
    "    def __init__(self, num_features):\n",
    "        self.num_features = num_features\n",
    "        self.weights = [.0 for _ in range(num_features)]\n",
    "        self.bias = .0\n",
    "\n",
    "    def forward(self, x):\n",
    "        weighted_sum_z = np.dot(x, self.weights) + self.bias\n",
    "        prediction = 1 if weighted_sum_z > .0 else 0\n",
    "        return prediction\n",
    "\n",
    "    def update(self, x, true_y):\n",
    "        prediction = self.forward(x)\n",
    "        error = true_y - prediction\n",
    "        self.bias += error\n",
    "        self.weights = list(map(add, self.weights, map(lambda v: error*v, x)))\n",
    "        return error"
   ]
  },
  {
   "cell_type": "code",
   "execution_count": 111,
   "metadata": {},
   "outputs": [
    {
     "name": "stdout",
     "output_type": "stream",
     "text": [
      "w:  [1.1, 2.1]\n",
      "b:  1\n"
     ]
    }
   ],
   "source": [
    "ppn = Perpeptron(num_features=2)\n",
    "\n",
    "x = [1.1, 2.1]\n",
    "ppn.update(x,  1)\n",
    "\n",
    "print(\"w: \", ppn.weights)\n",
    "print(\"b: \", ppn.bias)"
   ]
  },
  {
   "cell_type": "code",
   "execution_count": 112,
   "metadata": {},
   "outputs": [],
   "source": [
    "def train(model, X, y, epoch=5):\n",
    "\n",
    "    for e in range(epoch):\n",
    "        error_count = 0\n",
    "        \n",
    "        for x, y_ in list(zip([X.iloc[i] for i in range(X.shape[0])], y)):\n",
    "            error = model.update(x,y_)\n",
    "            error_count += abs(error)\n",
    "\n",
    "        print(f\"Epoch {e+1} errors {error_count}\")"
   ]
  },
  {
   "cell_type": "code",
   "execution_count": 160,
   "metadata": {},
   "outputs": [],
   "source": [
    "X_train = df.sample(15, random_state=5).copy()\n",
    "X_test = df.loc[~df.isin(X_train).all(axis=1),:]\n",
    "y_train = X_train.iloc[:,2]\n",
    "y_test = X_test.iloc[:,2]\n",
    "X_train = X_train.drop('label', axis=1)\n",
    "X_test = X_test.drop('label', axis=1)"
   ]
  },
  {
   "cell_type": "code",
   "execution_count": 161,
   "metadata": {},
   "outputs": [
    {
     "name": "stdout",
     "output_type": "stream",
     "text": [
      "Epoch 1 errors 2\n",
      "Epoch 2 errors 1\n",
      "Epoch 3 errors 0\n",
      "Epoch 4 errors 0\n",
      "Epoch 5 errors 0\n"
     ]
    }
   ],
   "source": [
    "ppn = Perpeptron(num_features=2)\n",
    "\n",
    "train(model=ppn, X=X_train, y=y_train)"
   ]
  },
  {
   "cell_type": "code",
   "execution_count": 158,
   "metadata": {},
   "outputs": [],
   "source": [
    "def accuracy(model, X, y):\n",
    "    correct = .0\n",
    "\n",
    "    for x, y_ in list(zip([X.iloc[i] for i in range(X.shape[0])], y)):\n",
    "        prediction = model.forward(x)\n",
    "        correct += int(prediction == y_)\n",
    "    \n",
    "    return correct / len(y)"
   ]
  },
  {
   "cell_type": "code",
   "execution_count": 164,
   "metadata": {},
   "outputs": [
    {
     "data": {
      "text/plain": [
       "1.0"
      ]
     },
     "execution_count": 164,
     "metadata": {},
     "output_type": "execute_result"
    }
   ],
   "source": [
    "accuracy(ppn, X_train, y_train)"
   ]
  },
  {
   "cell_type": "code",
   "execution_count": 167,
   "metadata": {},
   "outputs": [],
   "source": [
    "def plot_boundary(model, x1_min=-20, x1_max=20):\n",
    "    w1,w2 = model.weights[0], model.weights[1]\n",
    "    b = model.bias\n",
    "\n",
    "    x2_min = (-(w1*x1_min)-b)/w2\n",
    "    x2_max = (-(w1*x1_max)-b)/w2\n",
    "    return x1_min, x1_max, x2_min, x2_max"
   ]
  },
  {
   "cell_type": "code",
   "execution_count": 171,
   "metadata": {},
   "outputs": [
    {
     "data": {
      "text/plain": [
       "(-5.0, 5.0)"
      ]
     },
     "execution_count": 171,
     "metadata": {},
     "output_type": "execute_result"
    },
    {
     "data": {
      "image/png": "[encoded data removed]",
      "text/plain": [
       "<Figure size 640x480 with 1 Axes>"
      ]
     },
     "metadata": {},
     "output_type": "display_data"
    }
   ],
   "source": [
    "x1_min, x1_max, x2_min, x2_max = plot_boundary(ppn)\n",
    "plt.scatter(df[df.label==0].x1, df[df.label==0].x2, c='blue')\n",
    "plt.scatter(df[df.label==1].x1, df[df.label==1].x2, c='red')\n",
    "plt.plot([x1_min,x1_max], [x2_min, x2_max], c='black', linestyle='--')\n",
    "plt.xlim([-5,5])\n",
    "plt.ylim([-5,5])"
   ]
  },
  {
   "cell_type": "code",
   "execution_count": null,
   "metadata": {},
   "outputs": [],
   "source": []
  }
 ],
 "metadata": {
  "kernelspec": {
   "display_name": "Python 3.9.15 ('dl_fundamentals')",
   "language": "python",
   "name": "python3"
  },
  "language_info": {
   "codemirror_mode": {
    "name": "ipython",
    "version": 3
   },
   "file_extension": ".py",
   "mimetype": "text/x-python",
   "name": "python",
   "nbconvert_exporter": "python",
   "pygments_lexer": "ipython3",
   "version": "3.9.15"
  },
  "orig_nbformat": 4,
  "vscode": {
   "interpreter": {
    "hash": "fa40f0b4e9ab50f665cb38b8305229ba72dbfa96d9b5874042a1d04f11357b6a"
   }
  }
 },
 "nbformat": 4,
 "nbformat_minor": 2
}
