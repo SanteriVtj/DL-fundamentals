{
 "cells": [
  {
   "cell_type": "code",
   "execution_count": 25,
   "metadata": {},
   "outputs": [],
   "source": [
    "import pandas as pd\n",
    "import matplotlib.pyplot as plt\n",
    "import numpy as np\n",
    "import pdb\n",
    "import torch"
   ]
  },
  {
   "cell_type": "code",
   "execution_count": 27,
   "metadata": {},
   "outputs": [],
   "source": [
    "def split_data(X, y, random_state=1):\n",
    "    X_train = X.sample(15, random_state=random_state).sort_index().copy()\n",
    "    y_train = y[X.isin(X_train).all(axis=1)]\n",
    "    \n",
    "    X_test = X.loc[~X.isin(X_train).all(axis=1),:]\n",
    "    y_test = y[X.isin(X_test).all(axis=1)]\n",
    "    \n",
    "    return X_train, y_train, X_test, y_test"
   ]
  },
  {
   "cell_type": "code",
   "execution_count": 40,
   "metadata": {},
   "outputs": [],
   "source": [
    "def plot_boundary(model, X, y, x1_min=-20, x1_max=20):\n",
    "    w1,w2 = model.weights[0], model.weights[1]\n",
    "    b = model.bias\n",
    "\n",
    "    x2_min = (-(w1*x1_min)-b)/w2\n",
    "    x2_max = (-(w1*x1_max)-b)/w2\n",
    "    \n",
    "    plt.scatter(X[y==0].x1, X[y==0].x2, c='blue')\n",
    "    plt.scatter(X[y==1].x1, X[y==1].x2, c='red')\n",
    "    plt.plot([x1_min,x1_max], [x2_min, x2_max], c='black', linestyle='--')\n",
    "    plt.xlim([-5,5])\n",
    "    plt.ylim([-5,5])\n",
    "    plt.show()"
   ]
  },
  {
   "cell_type": "code",
   "execution_count": 26,
   "metadata": {},
   "outputs": [],
   "source": [
    "url = 'https://raw.githubusercontent.com/Lightning-AI/dl-fundamentals/main/unit01-ml-intro/1.6-perceptron-in-python/perceptron_toydata-truncated.txt'\n",
    "df = pd.read_csv(url, sep='\\t')"
   ]
  },
  {
   "cell_type": "code",
   "execution_count": 37,
   "metadata": {},
   "outputs": [],
   "source": [
    "X_train, y_train, X_test, y_test = split_data(df.iloc[:,0:2], df.iloc[:,2])\n",
    "X_train, y_train, X_test, y_test = torch.from_numpy(X_train.values), torch.from_numpy(y_train.values), torch.from_numpy(X_test.values), torch.from_numpy(y_test.values)\n",
    "X_train, y_train, X_test, y_test = X_train.to(torch.float32), y_train.to(torch.float32), X_test.to(torch.float32), y_test.to(torch.float32) "
   ]
  },
  {
   "cell_type": "code",
   "execution_count": 43,
   "metadata": {},
   "outputs": [],
   "source": [
    "class Perceptron:\n",
    "    def __init__(self, num_features):\n",
    "        self.num_features = num_features\n",
    "        self.weights = torch.from_numpy(np.random.standard_normal(num_features))\n",
    "        self.bias = torch.tensor(0.)\n",
    "\n",
    "    def forward(self, x):\n",
    "        weighted_sum_z = torch.dot(x, self.weights) + self.bias\n",
    "        prediction = torch.tensor(1.) if weighted_sum_z > 0. else torch.tensor(0)\n",
    "\n",
    "        return prediction\n",
    "\n",
    "    def update(self, x, true_y):\n",
    "        prediction = self.forward(x)\n",
    "        error = true_y - prediction\n",
    "\n",
    "        self.bias += error\n",
    "        self.weights += error * x\n",
    "\n",
    "        return error"
   ]
  },
  {
   "cell_type": "code",
   "execution_count": null,
   "metadata": {},
   "outputs": [],
   "source": []
  }
 ],
 "metadata": {
  "kernelspec": {
   "display_name": "Python 3.9.15 ('dl_fundamentals')",
   "language": "python",
   "name": "python3"
  },
  "language_info": {
   "codemirror_mode": {
    "name": "ipython",
    "version": 3
   },
   "file_extension": ".py",
   "mimetype": "text/x-python",
   "name": "python",
   "nbconvert_exporter": "python",
   "pygments_lexer": "ipython3",
   "version": "3.9.15"
  },
  "orig_nbformat": 4,
  "vscode": {
   "interpreter": {
    "hash": "fa40f0b4e9ab50f665cb38b8305229ba72dbfa96d9b5874042a1d04f11357b6a"
   }
  }
 },
 "nbformat": 4,
 "nbformat_minor": 2
}
